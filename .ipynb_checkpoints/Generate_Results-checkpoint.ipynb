{
 "cells": [
  {
   "cell_type": "markdown",
   "metadata": {},
   "source": [
    "# Imports"
   ]
  },
  {
   "cell_type": "code",
   "execution_count": 1,
   "metadata": {
    "ExecuteTime": {
     "end_time": "2024-04-15T18:23:35.453401Z",
     "start_time": "2024-04-15T18:23:35.038762Z"
    }
   },
   "outputs": [],
   "source": [
    "import ast\n",
    "import pandas as pd\n",
    "import numpy as np\n",
    "import matplotlib.pyplot as plt"
   ]
  },
  {
   "cell_type": "markdown",
   "metadata": {},
   "source": [
    "# Survey results"
   ]
  },
  {
   "cell_type": "code",
   "execution_count": 2,
   "metadata": {
    "ExecuteTime": {
     "end_time": "2024-04-15T18:23:35.676235Z",
     "start_time": "2024-04-15T18:23:35.456741Z"
    }
   },
   "outputs": [],
   "source": [
    "df_form = pd.read_excel('Improving Generative AI Images Through Negative Prompt(1-45).xlsx')\n",
    "prompt_columns = df_form.filter(regex='^Rank the following three images according to their suitability based on this description:')"
   ]
  },
  {
   "cell_type": "code",
   "execution_count": 3,
   "metadata": {
    "ExecuteTime": {
     "end_time": "2024-04-15T18:23:35.687582Z",
     "start_time": "2024-04-15T18:23:35.679716Z"
    }
   },
   "outputs": [],
   "source": [
    "df_data = pd.read_csv('form_imgs/csvfile.csv', delimiter=';')\n",
    "df_data = df_data.set_index('id')"
   ]
  },
  {
   "cell_type": "code",
   "execution_count": 4,
   "metadata": {
    "ExecuteTime": {
     "end_time": "2024-04-15T18:23:35.694725Z",
     "start_time": "2024-04-15T18:23:35.691089Z"
    }
   },
   "outputs": [],
   "source": [
    "def letter_pos(row, let):\n",
    "    letters = row.split(';')\n",
    "    return letters.index(let) + 1"
   ]
  },
  {
   "cell_type": "code",
   "execution_count": 5,
   "metadata": {
    "ExecuteTime": {
     "end_time": "2024-04-15T18:23:36.055626Z",
     "start_time": "2024-04-15T18:23:35.696955Z"
    },
    "scrolled": true
   },
   "outputs": [],
   "source": [
    "prompts = []\n",
    "pos_dict = dict()\n",
    "\n",
    "for i, prompt in enumerate(prompt_columns):\n",
    "    prompts.append(prompt)\n",
    "    pos_dict[prompt] = {'best':[], 'worst':[], 'base':[]}\n",
    "    \n",
    "    for let in ['A', 'B', 'C']:\n",
    "        for j, row in prompt_columns.iterrows():\n",
    "            img_type = df_data.loc[i][let]\n",
    "            pos_dict[prompt][img_type].append(letter_pos(row[prompt], let))"
   ]
  },
  {
   "cell_type": "code",
   "execution_count": 6,
   "metadata": {
    "ExecuteTime": {
     "end_time": "2024-04-15T18:23:36.069723Z",
     "start_time": "2024-04-15T18:23:36.058400Z"
    }
   },
   "outputs": [],
   "source": [
    "res_mean_dict = dict()\n",
    "res_std_dict = dict()\n",
    "for prompt in pos_dict.keys():\n",
    "    res_mean_dict[prompt] = []\n",
    "    res_mean_dict[prompt].append(np.mean(pos_dict[prompt]['best']))\n",
    "    res_mean_dict[prompt].append(np.mean(pos_dict[prompt]['worst']))\n",
    "    res_mean_dict[prompt].append(np.mean(pos_dict[prompt]['base']))\n",
    "    \n",
    "    res_std_dict[prompt] = []\n",
    "    res_std_dict[prompt].append(np.std(pos_dict[prompt]['best']))\n",
    "    res_std_dict[prompt].append(np.std(pos_dict[prompt]['worst']))\n",
    "    res_std_dict[prompt].append(np.std(pos_dict[prompt]['base']))"
   ]
  },
  {
   "cell_type": "code",
   "execution_count": 7,
   "metadata": {
    "ExecuteTime": {
     "end_time": "2024-04-15T18:23:36.405171Z",
     "start_time": "2024-04-15T18:23:36.071967Z"
    }
   },
   "outputs": [
    {
     "data": {
      "image/png": "[encoded data removed]",
      "text/plain": [
       "<Figure size 1500x500 with 1 Axes>"
      ]
     },
     "metadata": {},
     "output_type": "display_data"
    }
   ],
   "source": [
    "fig = plt.figure(figsize=(15,5))\n",
    "\n",
    "prompt_list = list(res_mean_dict.keys())\n",
    "# Delete \\n from one prompt\n",
    "prompt_list[9] = prompt_list[9][:-1]\n",
    "\n",
    "mean_res = np.array(list(res_mean_dict.values()))\n",
    "std_res = np.array(list(res_std_dict.values()))\n",
    "\n",
    "x = np.arange(len(prompt_list))\n",
    "w = 0.20\n",
    "\n",
    "plt.bar(x-w, mean_res[:,0], w)\n",
    "plt.bar(x, mean_res[:,1], w)\n",
    "plt.bar(x+w, mean_res[:,2], w)\n",
    "plt.errorbar(x-w, mean_res[:,0], yerr=std_res[:,0], fmt=\".\", color=\"k\", linewidth=0.6)\n",
    "plt.errorbar(x, mean_res[:,1], yerr=std_res[:,1], fmt=\".\", color=\"k\", linewidth=0.6)\n",
    "plt.errorbar(x+w, mean_res[:,2], yerr=std_res[:,2], fmt=\".\", color=\"k\", linewidth=0.6)\n",
    "\n",
    "plt.yticks([1,2,3])\n",
    "#plt.xticks(x, prompt_list, rotation=90) \n",
    "plt.xticks([]) \n",
    "plt.legend(['Best', 'Worst', 'Base'], loc='center left', bbox_to_anchor=(1, 0.9))\n",
    "\n",
    "plt.xlabel('Prompts')\n",
    "plt.ylabel('Ranking position')\n",
    "\n",
    "plt.show()"
   ]
  },
  {
   "cell_type": "code",
   "execution_count": 8,
   "metadata": {
    "ExecuteTime": {
     "end_time": "2024-04-15T18:23:36.412612Z",
     "start_time": "2024-04-15T18:23:36.407443Z"
    }
   },
   "outputs": [
    {
     "name": "stdout",
     "output_type": "stream",
     "text": [
      "Mean position of best image: 1.78 +- 0.70\n",
      "Mean position of worst image: 2.03 +- 0.66\n",
      "Mean position of base image: 2.18 +- 0.72\n"
     ]
    }
   ],
   "source": [
    "print(f'Mean position of best image: {np.mean(mean_res[:,0]):.2f} +- {np.mean(std_res[:,0]):.2f}')\n",
    "print(f'Mean position of worst image: {np.mean(mean_res[:,1]):.2f} +- {np.mean(std_res[:,1]):.2f}')\n",
    "print(f'Mean position of base image: {np.mean(mean_res[:,2]):.2f} +- {np.mean(std_res[:,2]):.2f}')"
   ]
  },
  {
   "cell_type": "markdown",
   "metadata": {},
   "source": [
    "# Optimization results"
   ]
  },
  {
   "cell_type": "code",
   "execution_count": 9,
   "metadata": {
    "ExecuteTime": {
     "end_time": "2024-04-15T18:23:36.424670Z",
     "start_time": "2024-04-15T18:23:36.414812Z"
    }
   },
   "outputs": [],
   "source": [
    "train_df = pd.read_csv('results/csvfile.csv', delimiter=';')"
   ]
  },
  {
   "cell_type": "code",
   "execution_count": 10,
   "metadata": {
    "ExecuteTime": {
     "end_time": "2024-04-15T18:23:36.433679Z",
     "start_time": "2024-04-15T18:23:36.429819Z"
    }
   },
   "outputs": [],
   "source": [
    "def sim_diff(sim_hist):\n",
    "    sims = ast.literal_eval(sim_hist)\n",
    "    return max(sims) / sims[0]"
   ]
  },
  {
   "cell_type": "code",
   "execution_count": 11,
   "metadata": {
    "ExecuteTime": {
     "end_time": "2024-04-15T18:23:36.446266Z",
     "start_time": "2024-04-15T18:23:36.436422Z"
    }
   },
   "outputs": [
    {
     "name": "stdout",
     "output_type": "stream",
     "text": [
      "Similarity mean improvement: 1.2441073 +- 0.20\n"
     ]
    }
   ],
   "source": [
    "diffs = train_df['sim_hist'].apply(sim_diff)\n",
    "print(f'Similarity mean improvement: {diffs.mean():.7f} +- {diffs.std():.2f}')"
   ]
  },
  {
   "cell_type": "code",
   "execution_count": 49,
   "metadata": {
    "ExecuteTime": {
     "end_time": "2024-04-15T18:33:28.583034Z",
     "start_time": "2024-04-15T18:33:28.385671Z"
    }
   },
   "outputs": [
    {
     "data": {
      "image/png": "[encoded data removed]",
      "text/plain": [
       "<Figure size 800x300 with 1 Axes>"
      ]
     },
     "metadata": {},
     "output_type": "display_data"
    }
   ],
   "source": [
    "fig = plt.figure(figsize=(8,3))\n",
    "\n",
    "plt.boxplot([train_df['best_sim'], train_df['base_sim']], labels=['Our results', 'Baseline'],\n",
    "            vert=False, positions=[0, 0.7], widths=[0.3, 0.3])\n",
    "plt.xlabel(\"Cosine similarity\")\n",
    "\n",
    "plt.show()"
   ]
  },
  {
   "cell_type": "code",
   "execution_count": 12,
   "metadata": {
    "ExecuteTime": {
     "end_time": "2024-04-15T18:23:36.452137Z",
     "start_time": "2024-04-15T18:23:36.448634Z"
    }
   },
   "outputs": [],
   "source": [
    "def get_num_neg(neg_words):\n",
    "    return ast.literal_eval(neg_words)[-1]"
   ]
  },
  {
   "cell_type": "code",
   "execution_count": 13,
   "metadata": {
    "ExecuteTime": {
     "end_time": "2024-04-15T18:23:37.231530Z",
     "start_time": "2024-04-15T18:23:37.223503Z"
    }
   },
   "outputs": [
    {
     "name": "stdout",
     "output_type": "stream",
     "text": [
      "Number of negative words: 16.00 +- 19.58\n"
     ]
    }
   ],
   "source": [
    "num_words = train_df['neg_words_num_hist'].apply(get_num_neg)\n",
    "print(f'Number of negative words: {num_words.mean():.2f} +- {num_words.std():.2f}')"
   ]
  }
 ],
 "metadata": {
  "kernelspec": {
   "display_name": "venv",
   "language": "python",
   "name": "venv"
  },
  "language_info": {
   "codemirror_mode": {
    "name": "ipython",
    "version": 3
   },
   "file_extension": ".py",
   "mimetype": "text/x-python",
   "name": "python",
   "nbconvert_exporter": "python",
   "pygments_lexer": "ipython3",
   "version": "3.8.5"
  },
  "toc": {
   "base_numbering": 1,
   "nav_menu": {},
   "number_sections": false,
   "sideBar": true,
   "skip_h1_title": false,
   "title_cell": "Table of Contents",
   "title_sidebar": "Contents",
   "toc_cell": false,
   "toc_position": {},
   "toc_section_display": true,
   "toc_window_display": false
  },
  "varInspector": {
   "cols": {
    "lenName": 16,
    "lenType": 16,
    "lenVar": 40
   },
   "kernels_config": {
    "python": {
     "delete_cmd_postfix": "",
     "delete_cmd_prefix": "del ",
     "library": "var_list.py",
     "varRefreshCmd": "print(var_dic_list())"
    },
    "r": {
     "delete_cmd_postfix": ") ",
     "delete_cmd_prefix": "rm(",
     "library": "var_list.r",
     "varRefreshCmd": "cat(var_dic_list()) "
    }
   },
   "types_to_exclude": [
    "module",
    "function",
    "builtin_function_or_method",
    "instance",
    "_Feature"
   ],
   "window_display": false
  }
 },
 "nbformat": 4,
 "nbformat_minor": 4
}
