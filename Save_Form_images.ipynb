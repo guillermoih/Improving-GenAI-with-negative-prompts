{
 "cells": [
  {
   "cell_type": "markdown",
   "metadata": {},
   "source": [
    "# Imports"
   ]
  },
  {
   "cell_type": "code",
   "execution_count": null,
   "metadata": {
    "ExecuteTime": {
     "end_time": "2024-04-12T08:19:11.668451Z",
     "start_time": "2024-04-12T08:19:11.664662Z"
    }
   },
   "outputs": [],
   "source": [
    "import csv, glob,random\n",
    "import numpy as np\n",
    "import matplotlib.pyplot as plt"
   ]
  },
  {
   "cell_type": "code",
   "execution_count": null,
   "metadata": {
    "ExecuteTime": {
     "end_time": "2024-04-12T08:19:11.679718Z",
     "start_time": "2024-04-12T08:19:11.671038Z"
    }
   },
   "outputs": [],
   "source": [
    "def get_img(imgs_list, save_path=None):\n",
    "    fig, ax = plt.subplots(1, 3, figsize=(10,5), dpi=150)\n",
    "    \n",
    "    options = ['A', 'B', 'C']\n",
    "\n",
    "    for i, img in enumerate(imgs_list):\n",
    "        ax[i].imshow(img[0])\n",
    "        ax[i].set_title(options[i], fontsize = 26, pad=15)\n",
    "        ax[i].set_xticks([])\n",
    "        ax[i].set_yticks([])\n",
    "\n",
    "    fig.tight_layout(rect=[0,0,1,1])\n",
    "    left_offset = .5\n",
    "    right_offset = .5\n",
    "    bottom_offset = 0\n",
    "\n",
    "    ax_width = 1-left_offset - right_offset\n",
    "    ax_height = 0.2\n",
    "    ax = fig.add_axes([left_offset, bottom_offset, ax_width, ax_height])\n",
    "    ax.set_axis_off()\n",
    "    \n",
    "    plt.savefig(save_path)\n",
    "    plt.show()"
   ]
  },
  {
   "cell_type": "code",
   "execution_count": null,
   "metadata": {
    "ExecuteTime": {
     "end_time": "2024-04-12T08:20:02.160357Z",
     "start_time": "2024-04-12T08:19:11.682135Z"
    },
    "scrolled": true
   },
   "outputs": [],
   "source": [
    "with open('form_imgs/csvfile.csv', 'a+', newline ='') as csv_file:\n",
    "    header = ['id', 'A', 'B', 'C']\n",
    "    csv_writer = csv.DictWriter(csv_file, fieldnames = header, delimiter=';')\n",
    "    csv_writer.writeheader()\n",
    "\n",
    "    for path in glob.glob('results/*_base.png'):\n",
    "        img_path = path[:-9]\n",
    "\n",
    "        img_base = plt.imread(img_path + '_base.png')\n",
    "        img_best = plt.imread(img_path + '_best.png')\n",
    "        img_worst = plt.imread(img_path + '_worst.png')\n",
    "\n",
    "        imgs_list = [[img_base, 'base'], [img_best, 'best'], [img_worst, 'worst']]\n",
    "        random.shuffle(imgs_list)\n",
    "\n",
    "        get_img(imgs_list, save_path='form_imgs/' + img_path[-3:] + '.png')\n",
    "\n",
    "        csv_writer.writerow({'id' : img_path[-3:],\n",
    "                             'A': imgs_list[0][1],\n",
    "                             'B': imgs_list[1][1],\n",
    "                             'C': imgs_list[2][1]})"
   ]
  },
  {
   "cell_type": "code",
   "execution_count": null,
   "metadata": {},
   "outputs": [],
   "source": []
  }
 ],
 "metadata": {
  "kernelspec": {
   "display_name": "venv",
   "language": "python",
   "name": "venv"
  },
  "language_info": {
   "codemirror_mode": {
    "name": "ipython",
    "version": 3
   },
   "file_extension": ".py",
   "mimetype": "text/x-python",
   "name": "python",
   "nbconvert_exporter": "python",
   "pygments_lexer": "ipython3",
   "version": "3.8.5"
  },
  "toc": {
   "base_numbering": 1,
   "nav_menu": {},
   "number_sections": false,
   "sideBar": true,
   "skip_h1_title": false,
   "title_cell": "Table of Contents",
   "title_sidebar": "Contents",
   "toc_cell": false,
   "toc_position": {},
   "toc_section_display": true,
   "toc_window_display": false
  },
  "varInspector": {
   "cols": {
    "lenName": 16,
    "lenType": 16,
    "lenVar": 40
   },
   "kernels_config": {
    "python": {
     "delete_cmd_postfix": "",
     "delete_cmd_prefix": "del ",
     "library": "var_list.py",
     "varRefreshCmd": "print(var_dic_list())"
    },
    "r": {
     "delete_cmd_postfix": ") ",
     "delete_cmd_prefix": "rm(",
     "library": "var_list.r",
     "varRefreshCmd": "cat(var_dic_list()) "
    }
   },
   "types_to_exclude": [
    "module",
    "function",
    "builtin_function_or_method",
    "instance",
    "_Feature"
   ],
   "window_display": false
  }
 },
 "nbformat": 4,
 "nbformat_minor": 4
}
